{
 "cells": [
  {
   "cell_type": "markdown",
   "metadata": {},
   "source": [
    "<img style=\"float: left; margin: 30px 15px 15px 15px;\" src=\"https://pngimage.net/wp-content/uploads/2018/06/logo-iteso-png-5.png\" width=\"300\" height=\"500\" /> \n",
    "    \n",
    "    \n",
    "### <font color='navy'> Simulación de procesos financieros. \n",
    "\n",
    "**Nombres:** Juan Pablo Rodriguez Alonso y Andrés Ramírez Villanueva\n",
    "\n",
    "**Fecha:** 30 de junio del 2021.\n",
    "\n",
    "**Expediente** : if714513, if715180, if722399 .\n",
    "**Profesor:** Oscar David Jaramillo Zuluaga.\n",
    "    \n",
    "**Link Github**: https://github.com/JuanPrdz/Tarea9_JPRodriguez_ARamirez\n",
    "\n",
    "# Tarea 9: Clase 19"
   ]
  },
  {
   "cell_type": "markdown",
   "metadata": {},
   "source": [
    "# <font color = red> Tarea\n",
    "\n",
    "Demostrar **Teoricamente** usando el MLE, que los estimadores de máxima verosimilitud para los parámetros $\\mu$ y $\\sigma$ de una distribución normal, estan dados por:\n",
    "\n",
    "$$\\hat \\mu = {1\\over n}\\sum_{i=1}^n x_i,\\quad \\hat  \\sigma^2={1\\over n}\\sum_{i=1}^n (x_i-\\hat \\mu)^2$$\n",
    "\n",
    "**Recuerde que:** La distribución normal es\n",
    "$$f(x\\mid \\mu ,\\sigma ^{2})={\\frac {1}{\\sqrt {2\\pi \\sigma ^{2}}}}e^{-{\\frac {(x-\\mu )^{2}}{2\\sigma ^{2}}}}$$"
   ]
  },
  {
   "cell_type": "markdown",
   "metadata": {},
   "source": [
    "# Tarea \n",
    "\n",
    "Investigar los siguientes métodos y paqueterías para extender los resultados anteriores:\n",
    "\n",
    "1. Paquetería Fitter: https://fitter.readthedocs.io/en/latest/index.html\n",
    "> Instalar \n",
    "           - https://anaconda.org/conda-forge/easydev\n",
    "           - https://anaconda.org/bioconda/fitter\n",
    "2. Método de Kolmogorov-Smirnov: https://blog.adrianistan.eu/estadistica-python-ajustar-datos-una-distribucion-parte-vii"
   ]
  },
  {
   "cell_type": "markdown",
   "metadata": {},
   "source": [
    "#### Código de solución Juan Pablo Rodríguez\n",
    "\n",
    "> Si tenemos que $$f(x\\mid \\mu ,\\sigma ^{2})={\\frac {1}{\\sqrt {2\\pi \\sigma ^{2}}}}e^{-{\\frac {(x-\\mu )^{2}}{2\\sigma ^{2}}}}$$\n",
    "> Entonces, sabemos que la MLE viene dada por: $$L = f(x_1)\\cdot f(x_2)\\cdot ..... \\cdot f(x_n) $$\n",
    "\n",
    "> Sustituyendo la ecuación: $$L = {\\frac {1}{\\sqrt {2\\pi \\sigma ^{2}}}}e^{-{\\frac {(x_1-\\mu )^{2}}{2\\sigma ^{2}}}} \\cdot {\\frac {1}{\\sqrt {2\\pi \\sigma ^{2}}}}e^{-{\\frac {(x_2-\\mu )^{2}}{2\\sigma ^{2}}}} \\cdot....\\cdot {\\frac {1}{\\sqrt {2\\pi \\sigma ^{2}}}}e^{-{\\frac {(x_n-\\mu )^{2}}{2\\sigma ^{2}}}}$$\n",
    "\n",
    ">$$L = \\frac {1}{(\\sqrt {2 \\pi})^n} \\frac {1}{(\\sqrt {(\\sigma^2})^n} e^{ \\frac{1}{\\sigma ^2}\\sum_{i=1}^n (x_i-\\mu)^2}$$\n",
    "\n",
    "> Y utilizando esta propiedad:    $ln\\frac {1}{(\\sqrt 2\\pi)^n} = ln(\\sqrt {2\\pi})^{-n} = -n ln(\\sqrt {2 \\pi})$\n",
    "\n",
    "> Obtenemos $$lnL = -nln(\\sqrt {2 \\pi}) -n\\ln\\sigma^2 - \\frac{1}{\\sigma^2}\\sum_{i=1}^n (x_i-\\mu)^2 $$\n",
    "> Ahora, para obtener $\\hat \\mu$ y $\\hat \\sigma^2$ derivamos respecto a $\\mu$ y $\\sigma^2$\n",
    "\n",
    ">Para $\\mu$: $$\\frac{\\partial lnL }{\\partial \\mu} = - \\frac{1}{\\sigma ^2}\\sum_{i=1}^n \\frac{\\partial}{\\partial \\mu}(x_i - \\mu)^2$$ \n",
    "$$\\frac{2}{\\sigma^2}\\sum_{i=1}^n (x_i-\\mu) = 0$$\n",
    "$$ \\sum_{i=1}^n (x_i) - (n\\mu) =0$$ \n",
    "> Comprobamos que $$\\hat \\mu = {1\\over n}\\sum_{i=1}^n x_i$$\n",
    "\n",
    ">Para $\\sigma^2$: $$\\frac{\\partial lnL }{\\partial \\sigma^2} = -\\frac{n}{\\sigma^2} + \\frac{1}{(\\sigma^2)^2}\\sum_{i=1}^n (x_i-\\mu)^2 = 0$$\n",
    "$$ = \\frac{1}{\\sigma^2}[{-n + \\frac{1}{\\sigma^2}\\sum_{i=1}^n (x_i-\\mu)^2}]=0$$\n",
    "> Compruebo que $$ \\hat \\sigma^2={1\\over n}\\sum_{i=1}^n (x_i-\\hat \\mu)^2$$"
   ]
  },
  {
   "cell_type": "markdown",
   "metadata": {},
   "source": []
  },
  {
   "cell_type": "code",
   "execution_count": null,
   "metadata": {},
   "outputs": [],
   "source": []
  },
  {
   "cell_type": "code",
   "execution_count": null,
   "metadata": {},
   "outputs": [],
   "source": []
  },
  {
   "cell_type": "code",
   "execution_count": null,
   "metadata": {},
   "outputs": [],
   "source": []
  },
  {
   "cell_type": "code",
   "execution_count": null,
   "metadata": {},
   "outputs": [],
   "source": []
  },
  {
   "cell_type": "markdown",
   "metadata": {},
   "source": [
    "#### Código de solución Andrés Ramírez "
   ]
  },
  {
   "cell_type": "markdown",
   "metadata": {},
   "source": [
    "Ec 1: $L(\\theta) = f(x_1)\\cdot ..... \\cdot f(x_n) $\n",
    "\n"
   ]
  },
  {
   "cell_type": "markdown",
   "metadata": {},
   "source": [
    "Tomando en cuenta lo siguiente, la distribución normal es:\n",
    "\n",
    "Ec 2: $f(x\\mid \\mu ,\\sigma ^{2})={\\frac {1}{\\sqrt {2\\pi \\sigma ^{2}}}}e^{-{\\frac {(x-\\mu )^{2}}{2\\sigma ^{2}}}}$"
   ]
  },
  {
   "cell_type": "markdown",
   "metadata": {},
   "source": [
    "Sustituímos en la ecuación 2 en la 1."
   ]
  },
  {
   "cell_type": "markdown",
   "metadata": {},
   "source": [
    "$L(\\theta) = {\\frac {1}{\\sqrt {2\\pi \\sigma ^{2}}}}e^{-{\\frac {(x_1-\\mu )^{2}}{2\\sigma ^{2}}}} \\cdot....\\cdot {\\frac {1}{\\sqrt {2\\pi \\sigma ^{2}}}}e^{-{\\frac {(x_n-\\mu )^{2}}{2\\sigma ^{2}}}}$\n",
    "\n",
    "$L(\\theta) = \\frac {1}{(\\sqrt {2 \\pi})^n} \\frac {1}{(\\sqrt {(\\sigma^2})^n} e^{ \\frac{1}{\\sigma ^2}\\sum_{i=1}^n (x_i-\\mu)^2}$\n",
    "\n"
   ]
  },
  {
   "cell_type": "markdown",
   "metadata": {},
   "source": [
    "Hacemos uso de propiedades de exponente y logaritmo.\n",
    "\n",
    "$ln\\frac {1}{(\\sqrt {2 \\pi})^n} = ln(\\sqrt {2\\pi})^{-n} = -n ln(\\sqrt {2 \\pi})$ \n",
    "\n"
   ]
  },
  {
   "cell_type": "markdown",
   "metadata": {},
   "source": [
    "Aplicamos ln en ambos lados de la ecuación"
   ]
  },
  {
   "cell_type": "markdown",
   "metadata": {},
   "source": [
    "$lnL = -nln(\\sqrt {2 \\pi}) -n\\ln\\sigma^2 - \\frac{1}{\\sigma^2}\\sum_{i=1}^n (x_i-\\mu)^2 $"
   ]
  },
  {
   "cell_type": "markdown",
   "metadata": {},
   "source": [
    "* Ahora, derivamos parcialmente respecto a $\\sigma^2$ y $\\mu$"
   ]
  },
  {
   "cell_type": "markdown",
   "metadata": {},
   "source": [
    "* $\\sigma^2$:\n",
    "\n",
    "$\\frac{\\partial lnL }{\\partial \\sigma^2} = -\\frac{n}{\\sigma^2} + \\frac{1}{(\\sigma^2)^2}\\sum_{i=1}^n (x_i-\\mu)^2 = 0$\n",
    "\n",
    "\n",
    "$ = \\frac{1}{\\sigma^2}[{-n + \\frac{1}{\\sigma^2}\\sum_{i=1}^n (x_i-\\mu)^2}]=0$\n",
    "\n",
    "* Al despejar comprobamos lo planteado al inicio del problema.\n",
    "\n",
    "* $\\sigma^2={1\\over n}\\sum_{i=1}^n (x_i-\\hat \\mu)^2$"
   ]
  },
  {
   "cell_type": "markdown",
   "metadata": {},
   "source": [
    "* $\\mu$: \n",
    "\n",
    "$\\frac{\\partial lnL }{\\partial \\mu} = - \\frac{1}{\\sigma ^2}\\sum_{i=1}^n \\frac{\\partial}{\\partial \\mu}(x_i - \\mu)^2$\n",
    "\n",
    "\n",
    "$\\frac{2}{\\sigma^2}\\sum_{i=1}^n (x_i-\\mu) = 0$\n",
    "\n",
    "\n",
    "$ \\sum_{i=1}^n (x_i) - (n\\mu) =0$\n",
    "\n",
    "* Al despejar comprobamos lo planteado al inicio del problema.\n",
    "\n",
    "\n",
    "* $\\hat \\mu = {1\\over n}\\sum_{i=1}^n x_i$\n",
    "\n",
    "\n"
   ]
  }
 ],
 "metadata": {
  "kernelspec": {
   "display_name": "Python 3",
   "language": "python",
   "name": "python3"
  },
  "language_info": {
   "codemirror_mode": {
    "name": "ipython",
    "version": 3
   },
   "file_extension": ".py",
   "mimetype": "text/x-python",
   "name": "python",
   "nbconvert_exporter": "python",
   "pygments_lexer": "ipython3",
   "version": "3.7.4"
  }
 },
 "nbformat": 4,
 "nbformat_minor": 5
}
