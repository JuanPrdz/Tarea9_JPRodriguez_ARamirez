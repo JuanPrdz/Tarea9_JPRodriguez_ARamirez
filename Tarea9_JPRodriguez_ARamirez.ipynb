{
 "cells": [
  {
   "cell_type": "markdown",
   "id": "99b8a0ac",
   "metadata": {},
   "source": [
    "<img style=\"float: left; margin: 30px 15px 15px 15px;\" src=\"https://pngimage.net/wp-content/uploads/2018/06/logo-iteso-png-5.png\" width=\"300\" height=\"500\" /> \n",
    "    \n",
    "    \n",
    "### <font color='navy'> Simulación de procesos financieros. \n",
    "\n",
    "**Nombres:** Juan Pablo Rodriguez Alonso y Andrés Ramírez Villanueva\n",
    "\n",
    "**Fecha:** 30 de junio del 2021.\n",
    "\n",
    "**Expediente** : if714513, if715180, if722399 .\n",
    "**Profesor:** Oscar David Jaramillo Zuluaga.\n",
    "    \n",
    "**Link Github**: https://github.com/JuanPrdz/Tarea9_JPRodriguez_ARamirez\n",
    "\n",
    "# Tarea 9: Clase 19"
   ]
  },
  {
   "cell_type": "markdown",
   "id": "d39f9b58",
   "metadata": {},
   "source": [
    "# <font color = red> Tarea\n",
    "\n",
    "Demostrar **Teoricamente** usando el MLE, que los estimadores de máxima verosimilitud para los parámetros $\\mu$ y $\\sigma$ de una distribución normal, estan dados por:\n",
    "\n",
    "$$\\hat \\mu = {1\\over n}\\sum_{i=1}^n x_i,\\quad \\hat  \\sigma^2={1\\over n}\\sum_{i=1}^n (x_i-\\hat \\mu)^2$$\n",
    "\n",
    "**Recuerde que:** La distribución normal es\n",
    "$$f(x\\mid \\mu ,\\sigma ^{2})={\\frac {1}{\\sqrt {2\\pi \\sigma ^{2}}}}e^{-{\\frac {(x-\\mu )^{2}}{2\\sigma ^{2}}}}$$"
   ]
  },
  {
   "cell_type": "markdown",
   "id": "2033e91c",
   "metadata": {},
   "source": [
    "# Tarea \n",
    "\n",
    "Investigar los siguientes métodos y paqueterías para extender los resultados anteriores:\n",
    "\n",
    "1. Paquetería Fitter: https://fitter.readthedocs.io/en/latest/index.html\n",
    "> Instalar \n",
    "           - https://anaconda.org/conda-forge/easydev\n",
    "           - https://anaconda.org/bioconda/fitter\n",
    "2. Método de Kolmogorov-Smirnov: https://blog.adrianistan.eu/estadistica-python-ajustar-datos-una-distribucion-parte-vii"
   ]
  },
  {
   "cell_type": "markdown",
   "id": "8bab7e94",
   "metadata": {},
   "source": [
    "#### Código de solución Juan Pablo Rodríguez"
   ]
  },
  {
   "cell_type": "code",
   "execution_count": null,
   "id": "2109bbe6",
   "metadata": {},
   "outputs": [],
   "source": []
  },
  {
   "cell_type": "code",
   "execution_count": null,
   "id": "a29155f7",
   "metadata": {},
   "outputs": [],
   "source": []
  },
  {
   "cell_type": "code",
   "execution_count": null,
   "id": "07a2bf49",
   "metadata": {},
   "outputs": [],
   "source": []
  },
  {
   "cell_type": "code",
   "execution_count": null,
   "id": "f5e6dcab",
   "metadata": {},
   "outputs": [],
   "source": []
  },
  {
   "cell_type": "code",
   "execution_count": null,
   "id": "ed9b5166",
   "metadata": {},
   "outputs": [],
   "source": []
  },
  {
   "cell_type": "markdown",
   "id": "1955993d",
   "metadata": {},
   "source": [
    "#### Código de solución Andrés Ramírez "
   ]
  },
  {
   "cell_type": "code",
   "execution_count": null,
   "id": "679cda35",
   "metadata": {},
   "outputs": [],
   "source": []
  },
  {
   "cell_type": "code",
   "execution_count": null,
   "id": "42a072d9",
   "metadata": {},
   "outputs": [],
   "source": []
  },
  {
   "cell_type": "code",
   "execution_count": null,
   "id": "d3336343",
   "metadata": {},
   "outputs": [],
   "source": []
  },
  {
   "cell_type": "code",
   "execution_count": null,
   "id": "0d046f13",
   "metadata": {},
   "outputs": [],
   "source": []
  },
  {
   "cell_type": "code",
   "execution_count": null,
   "id": "85102ab0",
   "metadata": {},
   "outputs": [],
   "source": []
  }
 ],
 "metadata": {
  "kernelspec": {
   "display_name": "Python 3",
   "language": "python",
   "name": "python3"
  },
  "language_info": {
   "codemirror_mode": {
    "name": "ipython",
    "version": 3
   },
   "file_extension": ".py",
   "mimetype": "text/x-python",
   "name": "python",
   "nbconvert_exporter": "python",
   "pygments_lexer": "ipython3",
   "version": "3.8.8"
  }
 },
 "nbformat": 4,
 "nbformat_minor": 5
}
